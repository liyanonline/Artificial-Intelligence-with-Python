{
  "nbformat": 4,
  "nbformat_minor": 0,
  "metadata": {
    "colab": {
      "provenance": [],
      "include_colab_link": true
    },
    "kernelspec": {
      "name": "python3",
      "display_name": "Python 3"
    },
    "language_info": {
      "name": "python"
    }
  },
  "cells": [
    {
      "cell_type": "markdown",
      "metadata": {
        "id": "view-in-github",
        "colab_type": "text"
      },
      "source": [
        "<a href=\"https://colab.research.google.com/github/liyanonline/Artificial-Intelligence-with-Python/blob/master/Interactive_Data_Analysis_with_Google_GenerativeAI_Marktechpost_(2).ipynb\" target=\"_parent\"><img src=\"https://colab.research.google.com/assets/colab-badge.svg\" alt=\"Open In Colab\"/></a>"
      ]
    },
    {
      "cell_type": "code",
      "source": [
        "3!pip install pandas google-generativeai --quiet"
      ],
      "metadata": {
        "id": "CkHrv9U8Kt-H"
      },
      "execution_count": null,
      "outputs": []
    },
    {
      "cell_type": "code",
      "source": [
        "import pandas as pd\n",
        "import google.generativeai as genai\n",
        "from IPython.display import Markdown"
      ],
      "metadata": {
        "id": "88znn65WKvh7"
      },
      "execution_count": null,
      "outputs": []
    },
    {
      "cell_type": "code",
      "source": [
        "GOOGLE_API_KEY = \"Use Your API Key Here\"\n",
        "genai.configure(api_key=GOOGLE_API_KEY)\n",
        "\n",
        "model = genai.GenerativeModel('gemini-2.0-flash-lite')"
      ],
      "metadata": {
        "id": "KSk9l_LVKyxd"
      },
      "execution_count": null,
      "outputs": []
    },
    {
      "cell_type": "code",
      "source": [
        "data = {'Product': ['Laptop', 'Mouse', 'Keyboard', 'Monitor', 'Webcam', 'Headphones'],\n",
        "        'Category': ['Electronics', 'Electronics', 'Electronics', 'Electronics', 'Electronics', 'Electronics'],\n",
        "        'Region': ['North', 'South', 'East', 'West', 'North', 'South'],\n",
        "        'Units Sold': [150, 200, 180, 120, 90, 250],\n",
        "        'Price': [1200, 25, 75, 300, 50, 100]}\n",
        "sales_df = pd.DataFrame(data)\n",
        "\n",
        "print(\"Sample Sales Data:\")\n",
        "print(sales_df)\n",
        "print(\"-\" * 30)"
      ],
      "metadata": {
        "colab": {
          "base_uri": "https://localhost:8080/"
        },
        "id": "yIu-CaEoK0gN",
        "outputId": "fd293fa6-60a8-440a-f55d-2d398f7d75ff"
      },
      "execution_count": null,
      "outputs": [
        {
          "output_type": "stream",
          "name": "stdout",
          "text": [
            "Sample Sales Data:\n",
            "      Product     Category Region  Units Sold  Price\n",
            "0      Laptop  Electronics  North         150   1200\n",
            "1       Mouse  Electronics  South         200     25\n",
            "2    Keyboard  Electronics   East         180     75\n",
            "3     Monitor  Electronics   West         120    300\n",
            "4      Webcam  Electronics  North          90     50\n",
            "5  Headphones  Electronics  South         250    100\n",
            "------------------------------\n"
          ]
        }
      ]
    },
    {
      "cell_type": "code",
      "source": [
        "def ask_gemini_about_data(dataframe, query):\n",
        "    \"\"\"\n",
        "    Asks the Gemini Pro model a question about the given Pandas DataFrame.\n",
        "\n",
        "    Args:\n",
        "        dataframe: The Pandas DataFrame to analyze.\n",
        "        query: The natural language question about the DataFrame.\n",
        "\n",
        "    Returns:\n",
        "        The response from the Gemini Pro model as a string.\n",
        "    \"\"\"\n",
        "    prompt = f\"\"\"You are a data analysis agent. Analyze the following pandas DataFrame and answer the question.\n",
        "\n",
        "    DataFrame:\n",
        "    ```\n",
        "    {dataframe.to_markdown(index=False)}\n",
        "    ```\n",
        "\n",
        "    Question: {query}\n",
        "\n",
        "    Answer:\n",
        "    \"\"\"\n",
        "    response = model.generate_content(prompt)\n",
        "    return response.text"
      ],
      "metadata": {
        "id": "JB6YItE_K81c"
      },
      "execution_count": null,
      "outputs": []
    },
    {
      "cell_type": "code",
      "source": [
        "# Query 1: What is the total number of units sold across all products?\n",
        "query1 = \"What is the total number of units sold across all products?\"\n",
        "response1 = ask_gemini_about_data(sales_df, query1)\n",
        "print(f\"Question 1: {query1}\")\n",
        "print(f\"Answer 1:\\n{response1}\")\n",
        "print(\"-\" * 30)"
      ],
      "metadata": {
        "colab": {
          "base_uri": "https://localhost:8080/",
          "height": 104
        },
        "id": "sOtKFY8OOCvc",
        "outputId": "2856f1e3-62b2-49ff-e165-cc34190b3f9e"
      },
      "execution_count": null,
      "outputs": [
        {
          "output_type": "stream",
          "name": "stdout",
          "text": [
            "Question 1: What is the total number of units sold across all products?\n",
            "Answer 1:\n",
            "Based on the provided DataFrame, the total number of units sold across all products is 990.\n",
            "\n",
            "------------------------------\n"
          ]
        }
      ]
    },
    {
      "cell_type": "code",
      "source": [
        "# Query 2: Which product had the highest number of units sold?\n",
        "query2 = \"Which product had the highest number of units sold?\"\n",
        "response2 = ask_gemini_about_data(sales_df, query2)\n",
        "print(f\"Question 2: {query2}\")\n",
        "print(f\"Answer 2:\\n{response2}\")\n",
        "print(\"-\" * 30)"
      ],
      "metadata": {
        "colab": {
          "base_uri": "https://localhost:8080/",
          "height": 104
        },
        "id": "ResBkPZDOFz0",
        "outputId": "9c9ddecf-ae9e-4137-8a53-059b6d77878b"
      },
      "execution_count": null,
      "outputs": [
        {
          "output_type": "stream",
          "name": "stdout",
          "text": [
            "Question 2: Which product had the highest number of units sold?\n",
            "Answer 2:\n",
            "Headphones\n",
            "\n",
            "------------------------------\n"
          ]
        }
      ]
    },
    {
      "cell_type": "code",
      "source": [
        "# Query 3: What is the average price of the products?\n",
        "query3 = \"What is the average price of the products?\"\n",
        "response3 = ask_gemini_about_data(sales_df, query3)\n",
        "print(f\"Question 3: {query3}\")\n",
        "print(f\"Answer 3:\\n{response3}\")\n",
        "print(\"-\" * 30)"
      ],
      "metadata": {
        "colab": {
          "base_uri": "https://localhost:8080/",
          "height": 208
        },
        "id": "671O5ND6OLV-",
        "outputId": "a47b8f78-f4aa-4a44-b504-91bb7e6a1a30"
      },
      "execution_count": null,
      "outputs": [
        {
          "output_type": "stream",
          "name": "stdout",
          "text": [
            "Question 3: What is the average price of the products?\n",
            "Answer 3:\n",
            "The average price of the products is calculated by summing the 'Price' column and dividing by the number of rows in the DataFrame.\n",
            "Sum of 'Price' column: 1200 + 25 + 75 + 300 + 50 + 100 = 1750\n",
            "Number of rows: 6\n",
            "Average Price = 1750 / 6 = 291.67 (rounded to two decimal places)\n",
            "\n",
            "```\n",
            "291.67\n",
            "```\n",
            "------------------------------\n"
          ]
        }
      ]
    },
    {
      "cell_type": "code",
      "source": [
        "# Query 4: Show me the products sold in the 'North' region.\n",
        "query4 = \"Show me the products sold in the 'North' region.\"\n",
        "response4 = ask_gemini_about_data(sales_df, query4)\n",
        "print(f\"Question 4: {query4}\")\n",
        "print(f\"Answer 4:\\n{response4}\")\n",
        "print(\"-\" * 30)"
      ],
      "metadata": {
        "colab": {
          "base_uri": "https://localhost:8080/",
          "height": 315
        },
        "id": "SrXi36ADOOhp",
        "outputId": "4efa5e9f-400d-41bc-d5b8-6d33ac8a1622"
      },
      "execution_count": null,
      "outputs": [
        {
          "output_type": "stream",
          "name": "stdout",
          "text": [
            "Question 4: Show me the products sold in the 'North' region.\n",
            "Answer 4:\n",
            "Here's the analysis of the DataFrame to answer the question:\n",
            "\n",
            "The question asks for the products sold in the 'North' region.  I need to filter the DataFrame to include only rows where the 'Region' column is equal to 'North'.\n",
            "\n",
            "Here's the resulting output based on the provided DataFrame:\n",
            "\n",
            "```\n",
            "| Product    | Category    | Region   |   Units Sold |   Price |\n",
            "|:-----------|:------------|:---------|-------------:|--------:|\n",
            "| Laptop     | Electronics | North    |          150 |    1200 |\n",
            "| Webcam     | Electronics | North    |           90 |      50 |\n",
            "```\n",
            "\n",
            "------------------------------\n"
          ]
        }
      ]
    },
    {
      "cell_type": "code",
      "execution_count": null,
      "metadata": {
        "colab": {
          "base_uri": "https://localhost:8080/",
          "height": 260
        },
        "id": "kbt6mqXVInyM",
        "outputId": "e5174dce-7b83-4d71-97b7-2c45a639a2af"
      },
      "outputs": [
        {
          "output_type": "stream",
          "name": "stdout",
          "text": [
            "Question 5: Calculate the total revenue (Units Sold * Price) for each product and present it in a table.\n",
            "Answer 5:\n",
            "```\n",
            "| Product    |   Total Revenue |\n",
            "|:-----------|----------------:|\n",
            "| Laptop     |          180000 |\n",
            "| Mouse      |            5000 |\n",
            "| Keyboard   |           13500 |\n",
            "| Monitor    |           36000 |\n",
            "| Webcam     |            4500 |\n",
            "| Headphones |           25000 |\n",
            "```\n",
            "\n",
            "------------------------------\n"
          ]
        }
      ],
      "source": [
        "# Query 5. More complex query: Calculate the total revenue for each product.\n",
        "query5 = \"Calculate the total revenue (Units Sold * Price) for each product and present it in a table.\"\n",
        "response5 = ask_gemini_about_data(sales_df, query5)\n",
        "print(f\"Question 5: {query5}\")\n",
        "print(f\"Answer 5:\\n{response5}\")\n",
        "print(\"-\" * 30)"
      ]
    }
  ]
}