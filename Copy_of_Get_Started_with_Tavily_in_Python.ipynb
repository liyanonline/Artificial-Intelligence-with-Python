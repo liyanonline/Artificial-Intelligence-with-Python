{
  "cells": [
    {
      "cell_type": "markdown",
      "metadata": {
        "id": "view-in-github",
        "colab_type": "text"
      },
      "source": [
        "<a href=\"https://colab.research.google.com/github/liyanonline/Artificial-Intelligence-with-Python/blob/master/Copy_of_Get_Started_with_Tavily_in_Python.ipynb\" target=\"_parent\"><img src=\"https://colab.research.google.com/assets/colab-badge.svg\" alt=\"Open In Colab\"/></a>"
      ]
    },
    {
      "cell_type": "markdown",
      "metadata": {
        "id": "WHbwfG95T1q1"
      },
      "source": [
        "# Welcome to Tavily!\n",
        "\n",
        "<img src=\"https://drive.google.com/uc?id=1TSA6HaZ9nRVKo64oOg3afPU7_P33ctYF\" alt=\"Tavily logo\" width=\"200\">\n",
        "\n",
        "\n",
        "Tavily is a specialized search API **designed specifically for LLMs**, enabling developers to build AI applications that can access real-time, accurate web data.\n",
        "\n",
        "In this notebook, you will learn step-by-step how to get started with Tavily, and build a **RAG-powered daily news digest app** using our main services - [Tavily Search](https://docs.tavily.com/docs/python-sdk/tavily-search/getting-started) and [Tavily Extract](https://docs.tavily.com/docs/python-sdk/tavily-extract/getting-started).\n",
        "\n",
        "You will first be building a simple version of the app using only Tavily Search, and then combining the power of Tavily Search and Tavily Extract to make a more advanced app.\n",
        "\n",
        "Feel free to add `print` statements along the way to understand what's going on under the hood.\n",
        "\n",
        "Let's get started!"
      ]
    },
    {
      "cell_type": "markdown",
      "metadata": {
        "id": "WgX-rPKSqfwG"
      },
      "source": [
        "> **NOTE:** Please make sure to execute all the cells in order, otherwise you might run into issues."
      ]
    },
    {
      "cell_type": "markdown",
      "metadata": {
        "id": "9RJbDzigU1Sb"
      },
      "source": [
        "# Pre-requisites\n",
        "\n",
        "Before writing any code, you will need a **Tavily API key**, and an **OpenAI API key**. You will also need to install some **required dependencies** for this notebook."
      ]
    },
    {
      "cell_type": "markdown",
      "metadata": {
        "id": "oQyHz47WZCYf"
      },
      "source": [
        "## Tavily API key\n",
        "\n",
        "To generate a Tavily API key, head to https://app.tavily.com. Once you sign up, you will be directed to your Tavily Dashboard. There, you can find your default API key, or generate a new one using the \"+\" button.\n",
        "\n",
        "<img src=\"https://drive.google.com/uc?id=1lRgvkKh5hzwC5qGJ1HUfRdbYB8SnJ3h-\" alt=\"OpenAI Platform\" width=\"700\">\n",
        "\n",
        "\n",
        "Once you get your API key, paste it in the cell below. Then, run the cell."
      ]
    },
    {
      "cell_type": "code",
      "execution_count": null,
      "metadata": {
        "id": "JOkMpH-RbESU"
      },
      "outputs": [],
      "source": [
        "TAVILY_API_KEY = \"\" # Paste your API key here"
      ]
    },
    {
      "cell_type": "markdown",
      "metadata": {
        "id": "sjXcBK9kZKO9"
      },
      "source": [
        "## OpenAI API key\n",
        "\n",
        "To generate an OpenAI API key, head to https://platform.openai.com. Once you sign up, you will be directed to your OpenAI Dashboard. There, you can generate an API key by clicking on \"Start building\".\n",
        "\n",
        "<img src=\"https://drive.google.com/uc?id=1Ousf91dc7QjzTjcycHmpiRreNOLgXc4u\" alt=\"OpenAI Platform\" width=\"700\">\n",
        "\n",
        "Once you get your API key, paste it in the cell below. Then, run the cell."
      ]
    },
    {
      "cell_type": "code",
      "execution_count": null,
      "metadata": {
        "id": "KXMFGtc1bI44"
      },
      "outputs": [],
      "source": [
        "OPENAI_API_KEY = \"\" # Paste your API key here"
      ]
    },
    {
      "cell_type": "markdown",
      "metadata": {
        "id": "nGaqS2KtZQcs"
      },
      "source": [
        "## Dependencies\n",
        "\n",
        "Before you can write code, you will need to install some Python packages using `pip`:\n",
        "1. `tavily-python` will allow you to natively access the Tavily API using Python.\n",
        "2. `langchain_openai` will allow you to natively access the OpenAI GPT-4o API using Python, and use structured outputs.\n",
        "\n",
        "\n",
        "Run the next cell to install the required dependencies."
      ]
    },
    {
      "cell_type": "code",
      "execution_count": null,
      "metadata": {
        "id": "4dTl6_xVZnsb"
      },
      "outputs": [],
      "source": [
        "!pip install tavily-python\n",
        "!pip install langchain_openai"
      ]
    },
    {
      "cell_type": "markdown",
      "metadata": {
        "id": "_QiFQ-YgaMVT"
      },
      "source": [
        "# How to use Tavily Search\n",
        "\n",
        "Before we get to the actual apps, we need to know how to use Tavily Search.\n",
        "\n",
        "Tavily Search is our search API that allows you to search the internet for relevant and accurate information, in only a few lines of code."
      ]
    },
    {
      "cell_type": "code",
      "execution_count": null,
      "metadata": {
        "id": "bTP7RB2sazly"
      },
      "outputs": [],
      "source": [
        "from tavily import TavilyClient\n",
        "\n",
        "tavily_client = TavilyClient(TAVILY_API_KEY)\n",
        "\n",
        "search_response = tavily_client.search(\"Who is Leo Messi?\")\n",
        "\n",
        "print(search_response)"
      ]
    },
    {
      "cell_type": "markdown",
      "metadata": {
        "id": "TLihsFyabZRE"
      },
      "source": [
        "That's it! As simple as that. Now, you know how to run a very basic query using Tavily Search.\n",
        "\n",
        "You can customize the parameters for the search. Head to the [docs](https://docs.tavily.com/docs/python-sdk/tavily-search/api-reference#keyword-arguments-optional) to learn more about each parameter and how it affects the results."
      ]
    },
    {
      "cell_type": "markdown",
      "metadata": {
        "id": "ohWDrHKOceld"
      },
      "source": [
        "# How to use Tavily Extract\n",
        "\n",
        "For our apps, we'll also need to know how to extract content from websites using Tavily Extract.\n",
        "\n",
        "Tavily Extract is our powerful content extraction API, allowing you to extract full content from URLs. It is designed to work seamlessly with Tavily Search."
      ]
    },
    {
      "cell_type": "code",
      "execution_count": null,
      "metadata": {
        "id": "FF-0x_-ccvK7"
      },
      "outputs": [],
      "source": [
        "extract_response = tavily_client.extract([\n",
        "    \"https://en.wikipedia.org/wiki/Lionel_Messi\",\n",
        "    \"https://www.fcbarcelona.com/en/\",\n",
        "    \"https://www.intermiamicf.com/news/\"\n",
        "])\n",
        "\n",
        "print(extract_response)"
      ]
    },
    {
      "cell_type": "markdown",
      "metadata": {
        "id": "vZUHy4Krdq4X"
      },
      "source": [
        "And that's all! Now you have all the tools you need to build your first RAG app with Tavily!"
      ]
    },
    {
      "cell_type": "markdown",
      "metadata": {
        "id": "ncBDM4-EeeYL"
      },
      "source": [
        "# Simple RAG Example\n",
        "\n",
        "Now, let's move on to the first real example. We'll be building a daily news digest app.\n",
        "\n",
        "In this example, we'll be fetching some information using **Tavily Search**, and then using this information to generate the daily news digest.\n",
        "\n",
        "<img src=\"https://drive.google.com/uc?id=1M4DISVdn6AD0_0vYE6zYGYlQZn7cQ7Le\" alt=\"Simple RAG flowchart\">"
      ]
    },
    {
      "cell_type": "markdown",
      "metadata": {
        "id": "IrQGZRLpfn-2"
      },
      "source": [
        "First, you'll define a few topics that you are interested in getting news about."
      ]
    },
    {
      "cell_type": "code",
      "execution_count": null,
      "metadata": {
        "id": "eri_aXwnf1pm"
      },
      "outputs": [],
      "source": [
        "topics = [\n",
        "    \"\", # Fill in topic 1\n",
        "    \"\", # Fill in topic 2\n",
        "    \"\"  # Fill in topic 3\n",
        "]"
      ]
    },
    {
      "cell_type": "markdown",
      "metadata": {
        "id": "gIW2himGf_QB"
      },
      "source": [
        "## Tavily News Search\n",
        "Then, we will perform the research using Tavily's News Search, and extract the source content and URLs."
      ]
    },
    {
      "cell_type": "code",
      "execution_count": null,
      "metadata": {
        "id": "pStQ7UmjgYXt"
      },
      "outputs": [],
      "source": [
        "context = []\n",
        "\n",
        "for topic in topics:\n",
        "\n",
        "  search_response = tavily_client.search(topic, topic=\"news\", time_range=\"day\")\n",
        "\n",
        "  context.append({\n",
        "      \"topic\": topic,\n",
        "      \"results\": [\n",
        "          { \"url\": result[\"url\"], \"title\": result[\"title\"], \"content\": result[\"content\"] } for result in search_response[\"results\"]\n",
        "      ]\n",
        "  })\n",
        "\n",
        "print(context)"
      ]
    },
    {
      "cell_type": "markdown",
      "metadata": {
        "id": "qta8bbnhiXR5"
      },
      "source": [
        "Notice that we used the keyword argument `topic=\"news\"` when conducting the search. This allows us to use the Tavily News Search Agent, which is optimized for searching through news. We are also limiting the results to articles from the last day with `time_range=\"day\"`.\n",
        "\n",
        "Head to our [docs](https://docs.tavily.com/docs/python-sdk/tavily-search/api-reference#keyword-arguments-optional) for more information on the different keyword arguments and their effects."
      ]
    },
    {
      "cell_type": "markdown",
      "metadata": {
        "id": "Tzis8LrAi_KL"
      },
      "source": [
        "## Generating the daily news digest using GPT-4o through LangChain\n",
        "Now, we'll use our search results as context for GPT-4o and generate your daily digest."
      ]
    },
    {
      "cell_type": "code",
      "execution_count": null,
      "metadata": {
        "id": "zT06CDxBjYK8"
      },
      "outputs": [],
      "source": [
        "from langchain_openai import ChatOpenAI\n",
        "from datetime import datetime\n",
        "\n",
        "gpt_4o = ChatOpenAI(api_key=OPENAI_API_KEY, model=\"gpt-4o\", temperature=0.0)\n",
        "\n",
        "prompt = \"\"\"\n",
        "    You are a Journalist agent.\n",
        "\n",
        "    - Generate a daily news digest. Today's date is {date}.\n",
        "    - Use only the following sources to get accurate information for each topic and write a short article about it:\n",
        "      {context}.\n",
        "    \"\"\"\n",
        "\n",
        "formatted_prompt = prompt.format(context=context, date=datetime.now().strftime(\"%Y-%m-%d\"))\n",
        "gpt_4o_response = gpt_4o.invoke(formatted_prompt)\n",
        "\n",
        "print(gpt_4o_response.content)"
      ]
    },
    {
      "cell_type": "markdown",
      "metadata": {
        "id": "AT1ObCEKk5xM"
      },
      "source": [
        "You've now got your own custom daily news digest, powered by Tavily Search!"
      ]
    },
    {
      "cell_type": "markdown",
      "metadata": {
        "id": "ReI00TZqmY_q"
      },
      "source": [
        "# Intermediate RAG Example\n",
        "\n",
        "This daily news digest is pretty good, but you might have noticed a few potential issues:\n",
        "1. The results aren't very detailed for some of the chosen topics. This is because we're not extracting the full content from each source.\n",
        "2. The output doesn't have an explicitly defined structure. Across different runs of the program, you might get an output with a different structure.\n",
        "\n",
        "We are going to solve these challenges here by improving on our Simple RAG application using **Tavily Extract**, and **LangChain's Structured Output**.\n",
        "\n",
        "We will be sending our Tavily Search results to Tavily Extract to get the full context, and then we'll feed that information into GPT-4o to get a more accurate daily news digest.\n",
        "\n",
        "<img alt=\"Intermediate RAG flowchart\" src=\"https://drive.google.com/uc?id=1279tExnlk1xZbX0vP7IU2vJIOhZ5lKOi\">\n",
        "\n",
        "Let's get started!"
      ]
    },
    {
      "cell_type": "markdown",
      "metadata": {
        "id": "IHj-fVIlpr3u"
      },
      "source": [
        "## Tavily News Search\n",
        "As before, we'll start by performing a Tavily News Search to get some relevant sources. However, Tavily Search only provides short snippets of content. We'll use Tavily Extract to get the full content from the sources."
      ]
    },
    {
      "cell_type": "code",
      "execution_count": null,
      "metadata": {
        "id": "D3dYGAZDqAPA"
      },
      "outputs": [],
      "source": [
        "context = []\n",
        "\n",
        "for topic in topics:\n",
        "\n",
        "  search_query = f\"Today's latest news about {topic}\"\n",
        "  search_response = tavily_client.search(topic, topic=\"news\", time_range=\"day\")\n",
        "\n",
        "  context.append({\n",
        "      \"topic\": topic,\n",
        "      \"sources\": [\n",
        "          { \"url\": result[\"url\"], \"title\": result[\"title\"] } for result in search_response[\"results\"]\n",
        "      ]\n",
        "  })"
      ]
    },
    {
      "cell_type": "markdown",
      "metadata": {
        "id": "3Kj6ChOlqtGa"
      },
      "source": [
        "## Full content extraction using Tavily Extract\n",
        "Now that we have the sources, let's use Tavily Extract to get their contents."
      ]
    },
    {
      "cell_type": "code",
      "execution_count": null,
      "metadata": {
        "id": "kLfp0IMKq0RZ"
      },
      "outputs": [],
      "source": [
        "extracted_results = []\n",
        "\n",
        "for topic in context:\n",
        "  extract_response = tavily_client.extract([source[\"url\"] for source in topic[\"sources\"]])\n",
        "\n",
        "  for extracted_result in extract_response[\"results\"]:\n",
        "    for source in topic[\"sources\"]:\n",
        "      if source[\"url\"] == extracted_result[\"url\"]:\n",
        "        source[\"content\"] = extracted_result[\"raw_content\"]\n",
        "\n",
        "  for extracted_result in extract_response[\"failed_results\"]:\n",
        "    for source in topic[\"sources\"]:\n",
        "      if source[\"url\"] == extracted_result[\"url\"]:\n",
        "        topic[\"sources\"].remove(source)\n",
        "\n",
        "  extracted_results.append(topic)"
      ]
    },
    {
      "cell_type": "markdown",
      "metadata": {
        "id": "ouz94roUtQgI"
      },
      "source": [
        "## Defining the output structure with Pydantic\n",
        "\n",
        "Now, we have filtered the sources to only include sources for which we were able to extract the full content.\n",
        "\n",
        "Let's now configure the structure of our output. We want our output to have a clearly defined structure so we can use it"
      ]
    },
    {
      "cell_type": "code",
      "execution_count": null,
      "metadata": {
        "id": "XA7RzOg1teYf"
      },
      "outputs": [],
      "source": [
        "from pydantic import BaseModel, Field\n",
        "\n",
        "class TopicSection(BaseModel):\n",
        "  title: str\n",
        "  article: str\n",
        "  sources: list[str]\n",
        "\n",
        "class DailyNewsDigest(BaseModel):\n",
        "  sections: list[TopicSection]\n"
      ]
    },
    {
      "cell_type": "markdown",
      "metadata": {
        "id": "Z_dfB8vUuHfY"
      },
      "source": [
        "## Generating the structured daily news digest using GPT-4o through LangChain\n",
        "Time to generate our structured output using our LLM!"
      ]
    },
    {
      "cell_type": "code",
      "execution_count": null,
      "metadata": {
        "id": "2ZT2asmxuLEV"
      },
      "outputs": [],
      "source": [
        "prompt = \"\"\"\n",
        "    You are a Journalist agent.\n",
        "\n",
        "    - Generate a daily news digest. Today's date is {date}.\n",
        "    - Use only the following sources to get accurate information for each topic and write a short article about it:\n",
        "      {context}.\n",
        "    - Also provide a list of citations.\n",
        "    \"\"\"\n",
        "\n",
        "formatted_prompt = prompt.format(context=extracted_results, date=datetime.now().strftime(\"%Y-%m-%d\"))\n",
        "\n",
        "gpt_4o_response = gpt_4o.with_structured_output(DailyNewsDigest).invoke(formatted_prompt)\n",
        "\n",
        "for section in gpt_4o_response.sections:\n",
        "  print(f\"Topic: {section.title}\")\n",
        "  print(f\"Content: {section.article}\")\n",
        "  print(f\"Sources: {section.sources}\")\n",
        "  print()"
      ]
    },
    {
      "cell_type": "markdown",
      "metadata": {
        "id": "44HKjKRlukaA"
      },
      "source": [
        "And that's it! You now have a structured daily news digest, powered by Tavily."
      ]
    },
    {
      "cell_type": "markdown",
      "metadata": {
        "id": "ppifRxaouthf"
      },
      "source": [
        "# Conclusion\n",
        "\n",
        "We hope you enjoyed this tutorial and got to familiarize yourself with the Tavily Search and Tavily Extract APIs. Here are some more resources to learn about Tavily:\n",
        "\n",
        "- If you want to further experiment with Tavily Search and understand the effects of each parameter, head to our [API Playground](https://app.tavily.com/playground).\n",
        "\n",
        "- For more examples and use cases, as well as more complex agentic (and multi-agent) workflows using Tavily, head to our [blog](https://blog.tavily.com).\n",
        "\n",
        "- If you have any questions about this notebook, or anything else related to Tavily, please get in touch with our team on our [Developer Community](https://community.tavily.com) or at support@tavily.com."
      ]
    }
  ],
  "metadata": {
    "colab": {
      "provenance": [],
      "include_colab_link": true
    },
    "kernelspec": {
      "display_name": "tavily",
      "language": "python",
      "name": "python3"
    },
    "language_info": {
      "codemirror_mode": {
        "name": "ipython",
        "version": 3
      },
      "file_extension": ".py",
      "mimetype": "text/x-python",
      "name": "python",
      "nbconvert_exporter": "python",
      "pygments_lexer": "ipython3",
      "version": "3.11.9"
    }
  },
  "nbformat": 4,
  "nbformat_minor": 0
}