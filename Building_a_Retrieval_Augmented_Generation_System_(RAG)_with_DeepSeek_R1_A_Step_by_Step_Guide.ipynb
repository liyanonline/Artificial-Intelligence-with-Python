{
  "nbformat": 4,
  "nbformat_minor": 0,
  "metadata": {
    "colab": {
      "provenance": [],
      "include_colab_link": true
    },
    "kernelspec": {
      "name": "python3",
      "display_name": "Python 3"
    },
    "language_info": {
      "name": "python"
    }
  },
  "cells": [
    {
      "cell_type": "markdown",
      "metadata": {
        "id": "view-in-github",
        "colab_type": "text"
      },
      "source": [
        "<a href=\"https://colab.research.google.com/github/liyanonline/Artificial-Intelligence-with-Python/blob/master/Building_a_Retrieval_Augmented_Generation_System_(RAG)_with_DeepSeek_R1_A_Step_by_Step_Guide.ipynb\" target=\"_parent\"><img src=\"https://colab.research.google.com/assets/colab-badge.svg\" alt=\"Open In Colab\"/></a>"
      ]
    },
    {
      "cell_type": "code",
      "execution_count": null,
      "metadata": {
        "id": "R6wTNXvK0Nqs"
      },
      "outputs": [],
      "source": [
        "# bash\n",
'!curl -fsSL https://ollama.com/install.sh | sh',
'!ollama',
        "ollama --version"
      ]
    },
    {
      "cell_type": "code",
      "source": [
        "# bash\n",
        "ollama run deepseek-r1:1.5b"
      ],
      "metadata": {
        "id": "ZGXFq5FI0Rba"
      },
      "execution_count": null,
      "outputs": []
    },
    {
      "cell_type": "code",
      "source": [
        "# python\n",
        "import os\n",
        "\n",
        "def load_documents(directory):\n",
        "    documents = []\n",
        "    for filename in os.listdir(directory):\n",
        "        if filename.endswith('.txt'):\n",
        "            with open(os.path.join(directory, filename), 'r') as file:\n",
        "                documents.append(file.read())\n",
        "    return documents\n",
        "\n",
        "documents = load_documents('path/to/your/documents')"
      ],
      "metadata": {
        "id": "HAIYG3kr0V6x"
      },
      "execution_count": null,
      "outputs": []
    },
    {
      "cell_type": "code",
      "source": [
        "# bash\n",
        "pip install faiss-cpu huggingface-hub"
      ],
      "metadata": {
        "id": "rCif5t-K0Z-P"
      },
      "execution_count": null,
      "outputs": []
    },
    {
      "cell_type": "code",
      "source": [
        "# python\n",
        "from huggingface_hub import HuggingFaceEmbeddings\n",
        "import faiss\n",
        "import numpy as np\n",
        "\n",
        "# Initialize the embeddings model\n",
        "embeddings_model = HuggingFaceEmbeddings()\n",
        "\n",
        "# Generate embeddings for all documents\n",
        "document_embeddings = [embeddings_model.embed(doc) for doc in documents]\n",
        "document_embeddings = np.array(document_embeddings).astype('float32')\n",
        "\n",
        "# Create FAISS index\n",
        "index = faiss.IndexFlatL2(document_embeddings.shape[1])  # L2 distance metric\n",
        "index.add(document_embeddings)  # Add document embeddings to the index"
      ],
      "metadata": {
        "id": "U0unPX6R0c3f"
      },
      "execution_count": null,
      "outputs": []
    },
    {
      "cell_type": "code",
      "source": [
        "# python\n",
        "class SimpleRetriever:\n",
        "    def __init__(self, index, embeddings_model):\n",
        "        self.index = index\n",
        "        self.embeddings_model = embeddings_model\n",
        "\n",
        "    def retrieve(self, query, k=3):\n",
        "        query_embedding = self.embeddings_model.embed(query)\n",
        "        distances, indices = self.index.search(np.array([query_embedding]).astype('float32'), k)\n",
        "        return [documents[i] for i in indices[0]]\n",
        "\n",
        "retriever = SimpleRetriever(index, embeddings_model)"
      ],
      "metadata": {
        "id": "gBXphRjJ0ff5"
      },
      "execution_count": null,
      "outputs": []
    },
    {
      "cell_type": "code",
      "source": [
        "# python\n",
        "from ollama import Ollama\n",
        "from string import Template\n",
        "\n",
        "# Instantiate the model\n",
        "llm = Ollama(model=\"deepseek-r1:1.5b\")\n",
        "\n",
        "# Craft the prompt template using string. Template for better readability\n",
        "prompt_template = Template(\"\"\"\n",
        "Use ONLY the context below.\n",
        "If unsure, say \"I don't know\".\n",
        "Keep answers under 4 sentences.\n",
        "\n",
        "Context: $context\n",
        "Question: $question\n",
        "Answer:\n",
        "\"\"\")"
      ],
      "metadata": {
        "id": "1PADC_UR0oMa"
      },
      "execution_count": null,
      "outputs": []
    },
    {
      "cell_type": "code",
      "source": [
        "# python\n",
        "def answer_query(question):\n",
        "    # Retrieve relevant context from the knowledge base\n",
        "    context = retriever.retrieve(question)\n",
        "\n",
        "    # Combine retrieved contexts into a single string (if multiple)\n",
        "    combined_context = \"\\n\".join(context)\n",
        "\n",
        "    # Generate an answer using DeepSeek R1 with the combined context\n",
        "    response = llm.generate(prompt_template.substitute(context=combined_context, question=question))\n",
        "\n",
        "    return response.strip()"
      ],
      "metadata": {
        "id": "jI6CuAGx0s-m"
      },
      "execution_count": null,
      "outputs": []
    },
    {
      "cell_type": "code",
      "source": [
        "# python\n",
        "if __name__ == \"__main__\":\n",
        "    user_question = \"What are the key features of DeepSeek R1?\"\n",
        "    answer = answer_query(user_question)\n",
        "    print(\"Answer:\", answer)"
      ],
      "metadata": {
        "id": "STA64Jdd0xVT"
      },
      "execution_count": null,
      "outputs": []
    }
  ]
}
